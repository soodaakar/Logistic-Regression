{
  "nbformat": 4,
  "nbformat_minor": 5,
  "metadata": {
    "kernelspec": {
      "display_name": "Python 3",
      "language": "python",
      "name": "python3"
    },
    "language_info": {
      "codemirror_mode": {
        "name": "ipython",
        "version": 3
      },
      "file_extension": ".py",
      "mimetype": "text/x-python",
      "name": "python",
      "nbconvert_exporter": "python",
      "pygments_lexer": "ipython3",
      "version": "3.8.8"
    },
    "colab": {
      "name": "Assignment_1_ML.ipynb",
      "provenance": [],
      "collapsed_sections": []
    }
  },
  "cells": [
    {
      "cell_type": "markdown",
      "metadata": {
        "id": "df7dfafd-2a4b-46ff-a61b-4a189bef3276"
      },
      "source": [
        "## Importing python libraries"
      ],
      "id": "df7dfafd-2a4b-46ff-a61b-4a189bef3276"
    },
    {
      "cell_type": "code",
      "metadata": {
        "colab": {
          "base_uri": "https://localhost:8080/"
        },
        "id": "FXchwOFETSYY",
        "outputId": "30027890-e8fb-4125-e935-6c2dc1c2ffbe"
      },
      "source": [
        "# from google.colab import drive\n",
        "# drive.mount('/content/drive')"
      ],
      "id": "FXchwOFETSYY",
      "execution_count": 1,
      "outputs": [
        {
          "output_type": "stream",
          "name": "stdout",
          "text": [
            "Drive already mounted at /content/drive; to attempt to forcibly remount, call drive.mount(\"/content/drive\", force_remount=True).\n"
          ]
        }
      ]
    },
    {
      "cell_type": "code",
      "metadata": {
        "id": "6815e201-9200-4ee5-8ae3-7dfe9fed924c"
      },
      "source": [
        "import pandas as pd\n",
        "import numpy as np\n",
        "from sklearn.model_selection import train_test_split\n",
        "from sklearn.metrics import accuracy_score, classification_report\n",
        "import matplotlib.pyplot as plt\n",
        "from sklearn.preprocessing import StandardScaler\n",
        "import tensorflow as tf\n",
        "from keras.models import Sequential\n",
        "from keras.layers import Dense\n",
        "from numpy.random import seed\n",
        "seed(14)\n",
        "from tensorflow.random import set_seed\n",
        "set_seed(14)\n",
        "from tensorflow.keras.callbacks import EarlyStopping\n",
        "%matplotlib inline"
      ],
      "id": "6815e201-9200-4ee5-8ae3-7dfe9fed924c",
      "execution_count": 2,
      "outputs": []
    },
    {
      "cell_type": "markdown",
      "metadata": {
        "id": "e2801de2-e2ca-4e8a-86b8-06878cedb6e9"
      },
      "source": [
        "#### Importing Diabetes dataset"
      ],
      "id": "e2801de2-e2ca-4e8a-86b8-06878cedb6e9"
    },
    {
      "cell_type": "code",
      "metadata": {
        "id": "8ed5ff25-942f-4fe0-a1e9-9a108e246372"
      },
      "source": [
        "df = pd.read_csv('diabetes.csv')"
      ],
      "id": "8ed5ff25-942f-4fe0-a1e9-9a108e246372",
      "execution_count": 3,
      "outputs": []
    },
    {
      "cell_type": "code",
      "metadata": {
        "colab": {
          "base_uri": "https://localhost:8080/"
        },
        "id": "9b43f4a4-92d9-4b6f-8e8f-69e302d349bd",
        "outputId": "85c3f4c1-402a-4359-a654-4fb83cf48648"
      },
      "source": [
        "### Dataset shape\n",
        "df.shape\n",
        "## This tells us that we have 768 rows and 9 columns in our dataset"
      ],
      "id": "9b43f4a4-92d9-4b6f-8e8f-69e302d349bd",
      "execution_count": 4,
      "outputs": [
        {
          "output_type": "execute_result",
          "data": {
            "text/plain": [
              "(768, 9)"
            ]
          },
          "metadata": {},
          "execution_count": 4
        }
      ]
    },
    {
      "cell_type": "code",
      "metadata": {
        "colab": {
          "base_uri": "https://localhost:8080/",
          "height": 206
        },
        "id": "1347fc73-7362-44d0-b6ae-1210a50e6794",
        "outputId": "50b1daf9-3895-4262-934b-5f7a902dec62"
      },
      "source": [
        "### Looking at any 5 data rows in the dataset\n",
        "df.sample(5)"
      ],
      "id": "1347fc73-7362-44d0-b6ae-1210a50e6794",
      "execution_count": 5,
      "outputs": [
        {
          "output_type": "execute_result",
          "data": {
            "text/html": [
              "<div>\n",
              "<style scoped>\n",
              "    .dataframe tbody tr th:only-of-type {\n",
              "        vertical-align: middle;\n",
              "    }\n",
              "\n",
              "    .dataframe tbody tr th {\n",
              "        vertical-align: top;\n",
              "    }\n",
              "\n",
              "    .dataframe thead th {\n",
              "        text-align: right;\n",
              "    }\n",
              "</style>\n",
              "<table border=\"1\" class=\"dataframe\">\n",
              "  <thead>\n",
              "    <tr style=\"text-align: right;\">\n",
              "      <th></th>\n",
              "      <th>Pregnancies</th>\n",
              "      <th>Glucose</th>\n",
              "      <th>BloodPressure</th>\n",
              "      <th>SkinThickness</th>\n",
              "      <th>Insulin</th>\n",
              "      <th>BMI</th>\n",
              "      <th>DiabetesPedigreeFunction</th>\n",
              "      <th>Age</th>\n",
              "      <th>Outcome</th>\n",
              "    </tr>\n",
              "  </thead>\n",
              "  <tbody>\n",
              "    <tr>\n",
              "      <th>274</th>\n",
              "      <td>13</td>\n",
              "      <td>106</td>\n",
              "      <td>70</td>\n",
              "      <td>0</td>\n",
              "      <td>0</td>\n",
              "      <td>34.2</td>\n",
              "      <td>0.251</td>\n",
              "      <td>52</td>\n",
              "      <td>0</td>\n",
              "    </tr>\n",
              "    <tr>\n",
              "      <th>352</th>\n",
              "      <td>3</td>\n",
              "      <td>61</td>\n",
              "      <td>82</td>\n",
              "      <td>28</td>\n",
              "      <td>0</td>\n",
              "      <td>34.4</td>\n",
              "      <td>0.243</td>\n",
              "      <td>46</td>\n",
              "      <td>0</td>\n",
              "    </tr>\n",
              "    <tr>\n",
              "      <th>603</th>\n",
              "      <td>7</td>\n",
              "      <td>150</td>\n",
              "      <td>78</td>\n",
              "      <td>29</td>\n",
              "      <td>126</td>\n",
              "      <td>35.2</td>\n",
              "      <td>0.692</td>\n",
              "      <td>54</td>\n",
              "      <td>1</td>\n",
              "    </tr>\n",
              "    <tr>\n",
              "      <th>484</th>\n",
              "      <td>0</td>\n",
              "      <td>145</td>\n",
              "      <td>0</td>\n",
              "      <td>0</td>\n",
              "      <td>0</td>\n",
              "      <td>44.2</td>\n",
              "      <td>0.630</td>\n",
              "      <td>31</td>\n",
              "      <td>1</td>\n",
              "    </tr>\n",
              "    <tr>\n",
              "      <th>137</th>\n",
              "      <td>0</td>\n",
              "      <td>93</td>\n",
              "      <td>60</td>\n",
              "      <td>25</td>\n",
              "      <td>92</td>\n",
              "      <td>28.7</td>\n",
              "      <td>0.532</td>\n",
              "      <td>22</td>\n",
              "      <td>0</td>\n",
              "    </tr>\n",
              "  </tbody>\n",
              "</table>\n",
              "</div>"
            ],
            "text/plain": [
              "     Pregnancies  Glucose  ...  Age  Outcome\n",
              "274           13      106  ...   52        0\n",
              "352            3       61  ...   46        0\n",
              "603            7      150  ...   54        1\n",
              "484            0      145  ...   31        1\n",
              "137            0       93  ...   22        0\n",
              "\n",
              "[5 rows x 9 columns]"
            ]
          },
          "metadata": {},
          "execution_count": 5
        }
      ]
    },
    {
      "cell_type": "code",
      "metadata": {
        "colab": {
          "base_uri": "https://localhost:8080/"
        },
        "id": "-m95mlc3gvIj",
        "outputId": "8118bf01-9f3b-4ad5-d15e-eddfdf7a4b1f"
      },
      "source": [
        "### Checking for any missing value in the dataset\n",
        "df.isna().sum()"
      ],
      "id": "-m95mlc3gvIj",
      "execution_count": 6,
      "outputs": [
        {
          "output_type": "execute_result",
          "data": {
            "text/plain": [
              "Pregnancies                 0\n",
              "Glucose                     0\n",
              "BloodPressure               0\n",
              "SkinThickness               0\n",
              "Insulin                     0\n",
              "BMI                         0\n",
              "DiabetesPedigreeFunction    0\n",
              "Age                         0\n",
              "Outcome                     0\n",
              "dtype: int64"
            ]
          },
          "metadata": {},
          "execution_count": 6
        }
      ]
    },
    {
      "cell_type": "code",
      "metadata": {
        "colab": {
          "base_uri": "https://localhost:8080/"
        },
        "id": "pJgDf4yEhQXB",
        "outputId": "042d33b4-0c42-4936-fd37-5a38a459abad"
      },
      "source": [
        "### Checking the percentage of the target variable for positive and negative class\n",
        "df.Outcome.value_counts(dropna=False)/df.shape[0]*100"
      ],
      "id": "pJgDf4yEhQXB",
      "execution_count": 7,
      "outputs": [
        {
          "output_type": "execute_result",
          "data": {
            "text/plain": [
              "0    65.104167\n",
              "1    34.895833\n",
              "Name: Outcome, dtype: float64"
            ]
          },
          "metadata": {},
          "execution_count": 7
        }
      ]
    },
    {
      "cell_type": "code",
      "metadata": {
        "colab": {
          "base_uri": "https://localhost:8080/",
          "height": 300
        },
        "id": "3AwiUJ_MhngE",
        "outputId": "2c4ff2eb-2408-428e-88f8-8a704b9053da"
      },
      "source": [
        "### Checking the stats for every variable\n",
        "df.describe()"
      ],
      "id": "3AwiUJ_MhngE",
      "execution_count": 8,
      "outputs": [
        {
          "output_type": "execute_result",
          "data": {
            "text/html": [
              "<div>\n",
              "<style scoped>\n",
              "    .dataframe tbody tr th:only-of-type {\n",
              "        vertical-align: middle;\n",
              "    }\n",
              "\n",
              "    .dataframe tbody tr th {\n",
              "        vertical-align: top;\n",
              "    }\n",
              "\n",
              "    .dataframe thead th {\n",
              "        text-align: right;\n",
              "    }\n",
              "</style>\n",
              "<table border=\"1\" class=\"dataframe\">\n",
              "  <thead>\n",
              "    <tr style=\"text-align: right;\">\n",
              "      <th></th>\n",
              "      <th>Pregnancies</th>\n",
              "      <th>Glucose</th>\n",
              "      <th>BloodPressure</th>\n",
              "      <th>SkinThickness</th>\n",
              "      <th>Insulin</th>\n",
              "      <th>BMI</th>\n",
              "      <th>DiabetesPedigreeFunction</th>\n",
              "      <th>Age</th>\n",
              "      <th>Outcome</th>\n",
              "    </tr>\n",
              "  </thead>\n",
              "  <tbody>\n",
              "    <tr>\n",
              "      <th>count</th>\n",
              "      <td>768.000000</td>\n",
              "      <td>768.000000</td>\n",
              "      <td>768.000000</td>\n",
              "      <td>768.000000</td>\n",
              "      <td>768.000000</td>\n",
              "      <td>768.000000</td>\n",
              "      <td>768.000000</td>\n",
              "      <td>768.000000</td>\n",
              "      <td>768.000000</td>\n",
              "    </tr>\n",
              "    <tr>\n",
              "      <th>mean</th>\n",
              "      <td>3.845052</td>\n",
              "      <td>120.894531</td>\n",
              "      <td>69.105469</td>\n",
              "      <td>20.536458</td>\n",
              "      <td>79.799479</td>\n",
              "      <td>31.992578</td>\n",
              "      <td>0.471876</td>\n",
              "      <td>33.240885</td>\n",
              "      <td>0.348958</td>\n",
              "    </tr>\n",
              "    <tr>\n",
              "      <th>std</th>\n",
              "      <td>3.369578</td>\n",
              "      <td>31.972618</td>\n",
              "      <td>19.355807</td>\n",
              "      <td>15.952218</td>\n",
              "      <td>115.244002</td>\n",
              "      <td>7.884160</td>\n",
              "      <td>0.331329</td>\n",
              "      <td>11.760232</td>\n",
              "      <td>0.476951</td>\n",
              "    </tr>\n",
              "    <tr>\n",
              "      <th>min</th>\n",
              "      <td>0.000000</td>\n",
              "      <td>0.000000</td>\n",
              "      <td>0.000000</td>\n",
              "      <td>0.000000</td>\n",
              "      <td>0.000000</td>\n",
              "      <td>0.000000</td>\n",
              "      <td>0.078000</td>\n",
              "      <td>21.000000</td>\n",
              "      <td>0.000000</td>\n",
              "    </tr>\n",
              "    <tr>\n",
              "      <th>25%</th>\n",
              "      <td>1.000000</td>\n",
              "      <td>99.000000</td>\n",
              "      <td>62.000000</td>\n",
              "      <td>0.000000</td>\n",
              "      <td>0.000000</td>\n",
              "      <td>27.300000</td>\n",
              "      <td>0.243750</td>\n",
              "      <td>24.000000</td>\n",
              "      <td>0.000000</td>\n",
              "    </tr>\n",
              "    <tr>\n",
              "      <th>50%</th>\n",
              "      <td>3.000000</td>\n",
              "      <td>117.000000</td>\n",
              "      <td>72.000000</td>\n",
              "      <td>23.000000</td>\n",
              "      <td>30.500000</td>\n",
              "      <td>32.000000</td>\n",
              "      <td>0.372500</td>\n",
              "      <td>29.000000</td>\n",
              "      <td>0.000000</td>\n",
              "    </tr>\n",
              "    <tr>\n",
              "      <th>75%</th>\n",
              "      <td>6.000000</td>\n",
              "      <td>140.250000</td>\n",
              "      <td>80.000000</td>\n",
              "      <td>32.000000</td>\n",
              "      <td>127.250000</td>\n",
              "      <td>36.600000</td>\n",
              "      <td>0.626250</td>\n",
              "      <td>41.000000</td>\n",
              "      <td>1.000000</td>\n",
              "    </tr>\n",
              "    <tr>\n",
              "      <th>max</th>\n",
              "      <td>17.000000</td>\n",
              "      <td>199.000000</td>\n",
              "      <td>122.000000</td>\n",
              "      <td>99.000000</td>\n",
              "      <td>846.000000</td>\n",
              "      <td>67.100000</td>\n",
              "      <td>2.420000</td>\n",
              "      <td>81.000000</td>\n",
              "      <td>1.000000</td>\n",
              "    </tr>\n",
              "  </tbody>\n",
              "</table>\n",
              "</div>"
            ],
            "text/plain": [
              "       Pregnancies     Glucose  ...         Age     Outcome\n",
              "count   768.000000  768.000000  ...  768.000000  768.000000\n",
              "mean      3.845052  120.894531  ...   33.240885    0.348958\n",
              "std       3.369578   31.972618  ...   11.760232    0.476951\n",
              "min       0.000000    0.000000  ...   21.000000    0.000000\n",
              "25%       1.000000   99.000000  ...   24.000000    0.000000\n",
              "50%       3.000000  117.000000  ...   29.000000    0.000000\n",
              "75%       6.000000  140.250000  ...   41.000000    1.000000\n",
              "max      17.000000  199.000000  ...   81.000000    1.000000\n",
              "\n",
              "[8 rows x 9 columns]"
            ]
          },
          "metadata": {},
          "execution_count": 8
        }
      ]
    },
    {
      "cell_type": "code",
      "metadata": {
        "colab": {
          "base_uri": "https://localhost:8080/",
          "height": 211
        },
        "id": "ZL8M01yGN80q",
        "outputId": "c1f3b038-ad72-475b-e024-16a37950246c"
      },
      "source": [
        "### Checking correlation of different variables\n",
        "corr = df.drop('Outcome',1).corr()\n",
        "corr.style.background_gradient(cmap ='coolwarm')"
      ],
      "id": "ZL8M01yGN80q",
      "execution_count": 9,
      "outputs": [
        {
          "output_type": "execute_result",
          "data": {
            "text/html": [
              "<style  type=\"text/css\" >\n",
              "#T_764b5238_2a3c_11ec_a5d4_0242ac1c0002row0_col0,#T_764b5238_2a3c_11ec_a5d4_0242ac1c0002row1_col1,#T_764b5238_2a3c_11ec_a5d4_0242ac1c0002row2_col2,#T_764b5238_2a3c_11ec_a5d4_0242ac1c0002row3_col3,#T_764b5238_2a3c_11ec_a5d4_0242ac1c0002row4_col4,#T_764b5238_2a3c_11ec_a5d4_0242ac1c0002row5_col5,#T_764b5238_2a3c_11ec_a5d4_0242ac1c0002row6_col6,#T_764b5238_2a3c_11ec_a5d4_0242ac1c0002row7_col7{\n",
              "            background-color:  #b40426;\n",
              "            color:  #f1f1f1;\n",
              "        }#T_764b5238_2a3c_11ec_a5d4_0242ac1c0002row0_col1{\n",
              "            background-color:  #516ddb;\n",
              "            color:  #000000;\n",
              "        }#T_764b5238_2a3c_11ec_a5d4_0242ac1c0002row0_col2{\n",
              "            background-color:  #5a78e4;\n",
              "            color:  #000000;\n",
              "        }#T_764b5238_2a3c_11ec_a5d4_0242ac1c0002row0_col3,#T_764b5238_2a3c_11ec_a5d4_0242ac1c0002row7_col4{\n",
              "            background-color:  #4358cb;\n",
              "            color:  #f1f1f1;\n",
              "        }#T_764b5238_2a3c_11ec_a5d4_0242ac1c0002row0_col4,#T_764b5238_2a3c_11ec_a5d4_0242ac1c0002row0_col5,#T_764b5238_2a3c_11ec_a5d4_0242ac1c0002row0_col6,#T_764b5238_2a3c_11ec_a5d4_0242ac1c0002row3_col0,#T_764b5238_2a3c_11ec_a5d4_0242ac1c0002row3_col1,#T_764b5238_2a3c_11ec_a5d4_0242ac1c0002row3_col7,#T_764b5238_2a3c_11ec_a5d4_0242ac1c0002row6_col2,#T_764b5238_2a3c_11ec_a5d4_0242ac1c0002row7_col3{\n",
              "            background-color:  #3b4cc0;\n",
              "            color:  #f1f1f1;\n",
              "        }#T_764b5238_2a3c_11ec_a5d4_0242ac1c0002row0_col7{\n",
              "            background-color:  #f1cdba;\n",
              "            color:  #000000;\n",
              "        }#T_764b5238_2a3c_11ec_a5d4_0242ac1c0002row1_col0{\n",
              "            background-color:  #799cf8;\n",
              "            color:  #000000;\n",
              "        }#T_764b5238_2a3c_11ec_a5d4_0242ac1c0002row1_col2{\n",
              "            background-color:  #5e7de7;\n",
              "            color:  #000000;\n",
              "        }#T_764b5238_2a3c_11ec_a5d4_0242ac1c0002row1_col3{\n",
              "            background-color:  #6b8df0;\n",
              "            color:  #000000;\n",
              "        }#T_764b5238_2a3c_11ec_a5d4_0242ac1c0002row1_col4{\n",
              "            background-color:  #b9d0f9;\n",
              "            color:  #000000;\n",
              "        }#T_764b5238_2a3c_11ec_a5d4_0242ac1c0002row1_col5,#T_764b5238_2a3c_11ec_a5d4_0242ac1c0002row3_col6{\n",
              "            background-color:  #7ea1fa;\n",
              "            color:  #000000;\n",
              "        }#T_764b5238_2a3c_11ec_a5d4_0242ac1c0002row1_col6{\n",
              "            background-color:  #6f92f3;\n",
              "            color:  #000000;\n",
              "        }#T_764b5238_2a3c_11ec_a5d4_0242ac1c0002row1_col7{\n",
              "            background-color:  #abc8fd;\n",
              "            color:  #000000;\n",
              "        }#T_764b5238_2a3c_11ec_a5d4_0242ac1c0002row2_col0,#T_764b5238_2a3c_11ec_a5d4_0242ac1c0002row7_col2{\n",
              "            background-color:  #7da0f9;\n",
              "            color:  #000000;\n",
              "        }#T_764b5238_2a3c_11ec_a5d4_0242ac1c0002row2_col1{\n",
              "            background-color:  #5977e3;\n",
              "            color:  #000000;\n",
              "        }#T_764b5238_2a3c_11ec_a5d4_0242ac1c0002row2_col3{\n",
              "            background-color:  #9abbff;\n",
              "            color:  #000000;\n",
              "        }#T_764b5238_2a3c_11ec_a5d4_0242ac1c0002row2_col4{\n",
              "            background-color:  #6a8bef;\n",
              "            color:  #000000;\n",
              "        }#T_764b5238_2a3c_11ec_a5d4_0242ac1c0002row2_col5,#T_764b5238_2a3c_11ec_a5d4_0242ac1c0002row6_col3{\n",
              "            background-color:  #93b5fe;\n",
              "            color:  #000000;\n",
              "        }#T_764b5238_2a3c_11ec_a5d4_0242ac1c0002row2_col6{\n",
              "            background-color:  #506bda;\n",
              "            color:  #000000;\n",
              "        }#T_764b5238_2a3c_11ec_a5d4_0242ac1c0002row2_col7{\n",
              "            background-color:  #a5c3fe;\n",
              "            color:  #000000;\n",
              "        }#T_764b5238_2a3c_11ec_a5d4_0242ac1c0002row3_col2,#T_764b5238_2a3c_11ec_a5d4_0242ac1c0002row5_col1{\n",
              "            background-color:  #7295f4;\n",
              "            color:  #000000;\n",
              "        }#T_764b5238_2a3c_11ec_a5d4_0242ac1c0002row3_col4{\n",
              "            background-color:  #d6dce4;\n",
              "            color:  #000000;\n",
              "        }#T_764b5238_2a3c_11ec_a5d4_0242ac1c0002row3_col5{\n",
              "            background-color:  #bad0f8;\n",
              "            color:  #000000;\n",
              "        }#T_764b5238_2a3c_11ec_a5d4_0242ac1c0002row4_col0{\n",
              "            background-color:  #3c4ec2;\n",
              "            color:  #f1f1f1;\n",
              "        }#T_764b5238_2a3c_11ec_a5d4_0242ac1c0002row4_col1{\n",
              "            background-color:  #9bbcff;\n",
              "            color:  #000000;\n",
              "        }#T_764b5238_2a3c_11ec_a5d4_0242ac1c0002row4_col2{\n",
              "            background-color:  #4961d2;\n",
              "            color:  #f1f1f1;\n",
              "        }#T_764b5238_2a3c_11ec_a5d4_0242ac1c0002row4_col3{\n",
              "            background-color:  #dbdcde;\n",
              "            color:  #000000;\n",
              "        }#T_764b5238_2a3c_11ec_a5d4_0242ac1c0002row4_col5{\n",
              "            background-color:  #7597f6;\n",
              "            color:  #000000;\n",
              "        }#T_764b5238_2a3c_11ec_a5d4_0242ac1c0002row4_col6{\n",
              "            background-color:  #80a3fa;\n",
              "            color:  #000000;\n",
              "        }#T_764b5238_2a3c_11ec_a5d4_0242ac1c0002row4_col7,#T_764b5238_2a3c_11ec_a5d4_0242ac1c0002row7_col6{\n",
              "            background-color:  #4e68d8;\n",
              "            color:  #000000;\n",
              "        }#T_764b5238_2a3c_11ec_a5d4_0242ac1c0002row5_col0{\n",
              "            background-color:  #5673e0;\n",
              "            color:  #000000;\n",
              "        }#T_764b5238_2a3c_11ec_a5d4_0242ac1c0002row5_col2,#T_764b5238_2a3c_11ec_a5d4_0242ac1c0002row5_col4{\n",
              "            background-color:  #8db0fe;\n",
              "            color:  #000000;\n",
              "        }#T_764b5238_2a3c_11ec_a5d4_0242ac1c0002row5_col3{\n",
              "            background-color:  #d1dae9;\n",
              "            color:  #000000;\n",
              "        }#T_764b5238_2a3c_11ec_a5d4_0242ac1c0002row5_col6{\n",
              "            background-color:  #7093f3;\n",
              "            color:  #000000;\n",
              "        }#T_764b5238_2a3c_11ec_a5d4_0242ac1c0002row5_col7{\n",
              "            background-color:  #6485ec;\n",
              "            color:  #000000;\n",
              "        }#T_764b5238_2a3c_11ec_a5d4_0242ac1c0002row6_col0{\n",
              "            background-color:  #485fd1;\n",
              "            color:  #f1f1f1;\n",
              "        }#T_764b5238_2a3c_11ec_a5d4_0242ac1c0002row6_col1{\n",
              "            background-color:  #5470de;\n",
              "            color:  #000000;\n",
              "        }#T_764b5238_2a3c_11ec_a5d4_0242ac1c0002row6_col4{\n",
              "            background-color:  #89acfd;\n",
              "            color:  #000000;\n",
              "        }#T_764b5238_2a3c_11ec_a5d4_0242ac1c0002row6_col5{\n",
              "            background-color:  #6282ea;\n",
              "            color:  #000000;\n",
              "        }#T_764b5238_2a3c_11ec_a5d4_0242ac1c0002row6_col7{\n",
              "            background-color:  #6384eb;\n",
              "            color:  #000000;\n",
              "        }#T_764b5238_2a3c_11ec_a5d4_0242ac1c0002row7_col0{\n",
              "            background-color:  #efcfbf;\n",
              "            color:  #000000;\n",
              "        }#T_764b5238_2a3c_11ec_a5d4_0242ac1c0002row7_col1{\n",
              "            background-color:  #81a4fb;\n",
              "            color:  #000000;\n",
              "        }#T_764b5238_2a3c_11ec_a5d4_0242ac1c0002row7_col5{\n",
              "            background-color:  #3f53c6;\n",
              "            color:  #f1f1f1;\n",
              "        }</style><table id=\"T_764b5238_2a3c_11ec_a5d4_0242ac1c0002\" ><thead>    <tr>        <th class=\"blank level0\" ></th>        <th class=\"col_heading level0 col0\" >Pregnancies</th>        <th class=\"col_heading level0 col1\" >Glucose</th>        <th class=\"col_heading level0 col2\" >BloodPressure</th>        <th class=\"col_heading level0 col3\" >SkinThickness</th>        <th class=\"col_heading level0 col4\" >Insulin</th>        <th class=\"col_heading level0 col5\" >BMI</th>        <th class=\"col_heading level0 col6\" >DiabetesPedigreeFunction</th>        <th class=\"col_heading level0 col7\" >Age</th>    </tr></thead><tbody>\n",
              "                <tr>\n",
              "                        <th id=\"T_764b5238_2a3c_11ec_a5d4_0242ac1c0002level0_row0\" class=\"row_heading level0 row0\" >Pregnancies</th>\n",
              "                        <td id=\"T_764b5238_2a3c_11ec_a5d4_0242ac1c0002row0_col0\" class=\"data row0 col0\" >1.000000</td>\n",
              "                        <td id=\"T_764b5238_2a3c_11ec_a5d4_0242ac1c0002row0_col1\" class=\"data row0 col1\" >0.129459</td>\n",
              "                        <td id=\"T_764b5238_2a3c_11ec_a5d4_0242ac1c0002row0_col2\" class=\"data row0 col2\" >0.141282</td>\n",
              "                        <td id=\"T_764b5238_2a3c_11ec_a5d4_0242ac1c0002row0_col3\" class=\"data row0 col3\" >-0.081672</td>\n",
              "                        <td id=\"T_764b5238_2a3c_11ec_a5d4_0242ac1c0002row0_col4\" class=\"data row0 col4\" >-0.073535</td>\n",
              "                        <td id=\"T_764b5238_2a3c_11ec_a5d4_0242ac1c0002row0_col5\" class=\"data row0 col5\" >0.017683</td>\n",
              "                        <td id=\"T_764b5238_2a3c_11ec_a5d4_0242ac1c0002row0_col6\" class=\"data row0 col6\" >-0.033523</td>\n",
              "                        <td id=\"T_764b5238_2a3c_11ec_a5d4_0242ac1c0002row0_col7\" class=\"data row0 col7\" >0.544341</td>\n",
              "            </tr>\n",
              "            <tr>\n",
              "                        <th id=\"T_764b5238_2a3c_11ec_a5d4_0242ac1c0002level0_row1\" class=\"row_heading level0 row1\" >Glucose</th>\n",
              "                        <td id=\"T_764b5238_2a3c_11ec_a5d4_0242ac1c0002row1_col0\" class=\"data row1 col0\" >0.129459</td>\n",
              "                        <td id=\"T_764b5238_2a3c_11ec_a5d4_0242ac1c0002row1_col1\" class=\"data row1 col1\" >1.000000</td>\n",
              "                        <td id=\"T_764b5238_2a3c_11ec_a5d4_0242ac1c0002row1_col2\" class=\"data row1 col2\" >0.152590</td>\n",
              "                        <td id=\"T_764b5238_2a3c_11ec_a5d4_0242ac1c0002row1_col3\" class=\"data row1 col3\" >0.057328</td>\n",
              "                        <td id=\"T_764b5238_2a3c_11ec_a5d4_0242ac1c0002row1_col4\" class=\"data row1 col4\" >0.331357</td>\n",
              "                        <td id=\"T_764b5238_2a3c_11ec_a5d4_0242ac1c0002row1_col5\" class=\"data row1 col5\" >0.221071</td>\n",
              "                        <td id=\"T_764b5238_2a3c_11ec_a5d4_0242ac1c0002row1_col6\" class=\"data row1 col6\" >0.137337</td>\n",
              "                        <td id=\"T_764b5238_2a3c_11ec_a5d4_0242ac1c0002row1_col7\" class=\"data row1 col7\" >0.263514</td>\n",
              "            </tr>\n",
              "            <tr>\n",
              "                        <th id=\"T_764b5238_2a3c_11ec_a5d4_0242ac1c0002level0_row2\" class=\"row_heading level0 row2\" >BloodPressure</th>\n",
              "                        <td id=\"T_764b5238_2a3c_11ec_a5d4_0242ac1c0002row2_col0\" class=\"data row2 col0\" >0.141282</td>\n",
              "                        <td id=\"T_764b5238_2a3c_11ec_a5d4_0242ac1c0002row2_col1\" class=\"data row2 col1\" >0.152590</td>\n",
              "                        <td id=\"T_764b5238_2a3c_11ec_a5d4_0242ac1c0002row2_col2\" class=\"data row2 col2\" >1.000000</td>\n",
              "                        <td id=\"T_764b5238_2a3c_11ec_a5d4_0242ac1c0002row2_col3\" class=\"data row2 col3\" >0.207371</td>\n",
              "                        <td id=\"T_764b5238_2a3c_11ec_a5d4_0242ac1c0002row2_col4\" class=\"data row2 col4\" >0.088933</td>\n",
              "                        <td id=\"T_764b5238_2a3c_11ec_a5d4_0242ac1c0002row2_col5\" class=\"data row2 col5\" >0.281805</td>\n",
              "                        <td id=\"T_764b5238_2a3c_11ec_a5d4_0242ac1c0002row2_col6\" class=\"data row2 col6\" >0.041265</td>\n",
              "                        <td id=\"T_764b5238_2a3c_11ec_a5d4_0242ac1c0002row2_col7\" class=\"data row2 col7\" >0.239528</td>\n",
              "            </tr>\n",
              "            <tr>\n",
              "                        <th id=\"T_764b5238_2a3c_11ec_a5d4_0242ac1c0002level0_row3\" class=\"row_heading level0 row3\" >SkinThickness</th>\n",
              "                        <td id=\"T_764b5238_2a3c_11ec_a5d4_0242ac1c0002row3_col0\" class=\"data row3 col0\" >-0.081672</td>\n",
              "                        <td id=\"T_764b5238_2a3c_11ec_a5d4_0242ac1c0002row3_col1\" class=\"data row3 col1\" >0.057328</td>\n",
              "                        <td id=\"T_764b5238_2a3c_11ec_a5d4_0242ac1c0002row3_col2\" class=\"data row3 col2\" >0.207371</td>\n",
              "                        <td id=\"T_764b5238_2a3c_11ec_a5d4_0242ac1c0002row3_col3\" class=\"data row3 col3\" >1.000000</td>\n",
              "                        <td id=\"T_764b5238_2a3c_11ec_a5d4_0242ac1c0002row3_col4\" class=\"data row3 col4\" >0.436783</td>\n",
              "                        <td id=\"T_764b5238_2a3c_11ec_a5d4_0242ac1c0002row3_col5\" class=\"data row3 col5\" >0.392573</td>\n",
              "                        <td id=\"T_764b5238_2a3c_11ec_a5d4_0242ac1c0002row3_col6\" class=\"data row3 col6\" >0.183928</td>\n",
              "                        <td id=\"T_764b5238_2a3c_11ec_a5d4_0242ac1c0002row3_col7\" class=\"data row3 col7\" >-0.113970</td>\n",
              "            </tr>\n",
              "            <tr>\n",
              "                        <th id=\"T_764b5238_2a3c_11ec_a5d4_0242ac1c0002level0_row4\" class=\"row_heading level0 row4\" >Insulin</th>\n",
              "                        <td id=\"T_764b5238_2a3c_11ec_a5d4_0242ac1c0002row4_col0\" class=\"data row4 col0\" >-0.073535</td>\n",
              "                        <td id=\"T_764b5238_2a3c_11ec_a5d4_0242ac1c0002row4_col1\" class=\"data row4 col1\" >0.331357</td>\n",
              "                        <td id=\"T_764b5238_2a3c_11ec_a5d4_0242ac1c0002row4_col2\" class=\"data row4 col2\" >0.088933</td>\n",
              "                        <td id=\"T_764b5238_2a3c_11ec_a5d4_0242ac1c0002row4_col3\" class=\"data row4 col3\" >0.436783</td>\n",
              "                        <td id=\"T_764b5238_2a3c_11ec_a5d4_0242ac1c0002row4_col4\" class=\"data row4 col4\" >1.000000</td>\n",
              "                        <td id=\"T_764b5238_2a3c_11ec_a5d4_0242ac1c0002row4_col5\" class=\"data row4 col5\" >0.197859</td>\n",
              "                        <td id=\"T_764b5238_2a3c_11ec_a5d4_0242ac1c0002row4_col6\" class=\"data row4 col6\" >0.185071</td>\n",
              "                        <td id=\"T_764b5238_2a3c_11ec_a5d4_0242ac1c0002row4_col7\" class=\"data row4 col7\" >-0.042163</td>\n",
              "            </tr>\n",
              "            <tr>\n",
              "                        <th id=\"T_764b5238_2a3c_11ec_a5d4_0242ac1c0002level0_row5\" class=\"row_heading level0 row5\" >BMI</th>\n",
              "                        <td id=\"T_764b5238_2a3c_11ec_a5d4_0242ac1c0002row5_col0\" class=\"data row5 col0\" >0.017683</td>\n",
              "                        <td id=\"T_764b5238_2a3c_11ec_a5d4_0242ac1c0002row5_col1\" class=\"data row5 col1\" >0.221071</td>\n",
              "                        <td id=\"T_764b5238_2a3c_11ec_a5d4_0242ac1c0002row5_col2\" class=\"data row5 col2\" >0.281805</td>\n",
              "                        <td id=\"T_764b5238_2a3c_11ec_a5d4_0242ac1c0002row5_col3\" class=\"data row5 col3\" >0.392573</td>\n",
              "                        <td id=\"T_764b5238_2a3c_11ec_a5d4_0242ac1c0002row5_col4\" class=\"data row5 col4\" >0.197859</td>\n",
              "                        <td id=\"T_764b5238_2a3c_11ec_a5d4_0242ac1c0002row5_col5\" class=\"data row5 col5\" >1.000000</td>\n",
              "                        <td id=\"T_764b5238_2a3c_11ec_a5d4_0242ac1c0002row5_col6\" class=\"data row5 col6\" >0.140647</td>\n",
              "                        <td id=\"T_764b5238_2a3c_11ec_a5d4_0242ac1c0002row5_col7\" class=\"data row5 col7\" >0.036242</td>\n",
              "            </tr>\n",
              "            <tr>\n",
              "                        <th id=\"T_764b5238_2a3c_11ec_a5d4_0242ac1c0002level0_row6\" class=\"row_heading level0 row6\" >DiabetesPedigreeFunction</th>\n",
              "                        <td id=\"T_764b5238_2a3c_11ec_a5d4_0242ac1c0002row6_col0\" class=\"data row6 col0\" >-0.033523</td>\n",
              "                        <td id=\"T_764b5238_2a3c_11ec_a5d4_0242ac1c0002row6_col1\" class=\"data row6 col1\" >0.137337</td>\n",
              "                        <td id=\"T_764b5238_2a3c_11ec_a5d4_0242ac1c0002row6_col2\" class=\"data row6 col2\" >0.041265</td>\n",
              "                        <td id=\"T_764b5238_2a3c_11ec_a5d4_0242ac1c0002row6_col3\" class=\"data row6 col3\" >0.183928</td>\n",
              "                        <td id=\"T_764b5238_2a3c_11ec_a5d4_0242ac1c0002row6_col4\" class=\"data row6 col4\" >0.185071</td>\n",
              "                        <td id=\"T_764b5238_2a3c_11ec_a5d4_0242ac1c0002row6_col5\" class=\"data row6 col5\" >0.140647</td>\n",
              "                        <td id=\"T_764b5238_2a3c_11ec_a5d4_0242ac1c0002row6_col6\" class=\"data row6 col6\" >1.000000</td>\n",
              "                        <td id=\"T_764b5238_2a3c_11ec_a5d4_0242ac1c0002row6_col7\" class=\"data row6 col7\" >0.033561</td>\n",
              "            </tr>\n",
              "            <tr>\n",
              "                        <th id=\"T_764b5238_2a3c_11ec_a5d4_0242ac1c0002level0_row7\" class=\"row_heading level0 row7\" >Age</th>\n",
              "                        <td id=\"T_764b5238_2a3c_11ec_a5d4_0242ac1c0002row7_col0\" class=\"data row7 col0\" >0.544341</td>\n",
              "                        <td id=\"T_764b5238_2a3c_11ec_a5d4_0242ac1c0002row7_col1\" class=\"data row7 col1\" >0.263514</td>\n",
              "                        <td id=\"T_764b5238_2a3c_11ec_a5d4_0242ac1c0002row7_col2\" class=\"data row7 col2\" >0.239528</td>\n",
              "                        <td id=\"T_764b5238_2a3c_11ec_a5d4_0242ac1c0002row7_col3\" class=\"data row7 col3\" >-0.113970</td>\n",
              "                        <td id=\"T_764b5238_2a3c_11ec_a5d4_0242ac1c0002row7_col4\" class=\"data row7 col4\" >-0.042163</td>\n",
              "                        <td id=\"T_764b5238_2a3c_11ec_a5d4_0242ac1c0002row7_col5\" class=\"data row7 col5\" >0.036242</td>\n",
              "                        <td id=\"T_764b5238_2a3c_11ec_a5d4_0242ac1c0002row7_col6\" class=\"data row7 col6\" >0.033561</td>\n",
              "                        <td id=\"T_764b5238_2a3c_11ec_a5d4_0242ac1c0002row7_col7\" class=\"data row7 col7\" >1.000000</td>\n",
              "            </tr>\n",
              "    </tbody></table>"
            ],
            "text/plain": [
              "<pandas.io.formats.style.Styler at 0x7f0b42967d10>"
            ]
          },
          "metadata": {},
          "execution_count": 9
        }
      ]
    },
    {
      "cell_type": "markdown",
      "metadata": {
        "id": "3e5f8174-c73e-42b4-b5fb-3d82d54abfd0"
      },
      "source": [
        "## Scaling some feature "
      ],
      "id": "3e5f8174-c73e-42b4-b5fb-3d82d54abfd0"
    },
    {
      "cell_type": "code",
      "metadata": {
        "id": "t5Ie3Ufn-Y8P"
      },
      "source": [
        "### Columns which need standardization\n",
        "cols_normalize = ['Pregnancies','BloodPressure','SkinThickness','Insulin','BMI','Age','Glucose']\n",
        "### Columns left which doesn't require standardization\n",
        "cols_left = list(set(df.columns) - set(cols_normalize))"
      ],
      "id": "t5Ie3Ufn-Y8P",
      "execution_count": 10,
      "outputs": []
    },
    {
      "cell_type": "code",
      "metadata": {
        "id": "zpnVA7zf8fAd"
      },
      "source": [
        "# create a standard scaler object\n",
        "std_scaler = StandardScaler()"
      ],
      "id": "zpnVA7zf8fAd",
      "execution_count": 11,
      "outputs": []
    },
    {
      "cell_type": "code",
      "metadata": {
        "id": "mY0STQQi-lEN"
      },
      "source": [
        "### Standardizing the columns which are in variable cols_normalize\n",
        "df_std = pd.DataFrame(std_scaler.fit_transform(df[cols_normalize]),columns=cols_normalize)"
      ],
      "id": "mY0STQQi-lEN",
      "execution_count": 12,
      "outputs": []
    },
    {
      "cell_type": "code",
      "metadata": {
        "id": "9vVZDKfT9mMX"
      },
      "source": [
        "### Getting the remaining columns into the new dataset\n",
        "df_std[cols_left] = df[cols_left]"
      ],
      "id": "9vVZDKfT9mMX",
      "execution_count": 13,
      "outputs": []
    },
    {
      "cell_type": "code",
      "metadata": {
        "id": "e7243b7e-2235-4865-95c3-9a7925ce8d7b"
      },
      "source": [
        "# ### Here we are calculating the max and min value of a feature and scaling it.\n",
        "# def min_max_scaling(column_name,dataframe):\n",
        "#     min_value = dataframe[column_name].min()\n",
        "#     max_value = dataframe[column_name].max()\n",
        "#     dataframe[column_name] = dataframe[column_name].apply(lambda x: (x-min_value)/(max_value-min_value))\n",
        "#     return (dataframe[column_name])\n",
        "\n",
        "# for i in cols_normalize:\n",
        "#     df[i] = min_max_scaling(i,df)"
      ],
      "id": "e7243b7e-2235-4865-95c3-9a7925ce8d7b",
      "execution_count": 14,
      "outputs": []
    },
    {
      "cell_type": "markdown",
      "metadata": {
        "id": "2af9af04-7016-4ddd-a8dd-5a7f48f69bbc"
      },
      "source": [
        "## Dividing the dataset into 3 parts"
      ],
      "id": "2af9af04-7016-4ddd-a8dd-5a7f48f69bbc"
    },
    {
      "cell_type": "code",
      "metadata": {
        "id": "50b9e784-150c-481a-b519-0394c0de6f83"
      },
      "source": [
        "### Initially here we are dividing the dataset into train and test which is 60 - 40. But afterwards we are dividing test again into test and validation. Making the overall percentage as 60-20-20.\n",
        "x_train,x_val,y_train,y_val = train_test_split(df_std.drop(['Outcome'],axis=1),df_std.Outcome,stratify=df.Outcome,test_size=0.4,random_state=14)\n",
        "x_test,x_val,y_test,y_val = train_test_split(x_val,y_val,stratify=y_val,test_size=0.5,random_state=14)"
      ],
      "id": "50b9e784-150c-481a-b519-0394c0de6f83",
      "execution_count": 15,
      "outputs": []
    },
    {
      "cell_type": "code",
      "metadata": {
        "colab": {
          "base_uri": "https://localhost:8080/"
        },
        "id": "74mk3jGA5-MD",
        "outputId": "0554cf84-7dbf-47c7-bee1-9ba971a88654"
      },
      "source": [
        "print(\"Shape of train dataset: \",x_train.shape)\n",
        "print(\"Shape of validation dataset: \",x_val.shape)\n",
        "print(\"Shape of test dataset: \",x_test.shape)"
      ],
      "id": "74mk3jGA5-MD",
      "execution_count": 16,
      "outputs": [
        {
          "output_type": "stream",
          "name": "stdout",
          "text": [
            "Shape of train dataset:  (460, 8)\n",
            "Shape of validation dataset:  (154, 8)\n",
            "Shape of test dataset:  (154, 8)\n"
          ]
        }
      ]
    },
    {
      "cell_type": "markdown",
      "metadata": {
        "id": "6wC_8AjcVR_q"
      },
      "source": [
        "# Logistic Regression"
      ],
      "id": "6wC_8AjcVR_q"
    },
    {
      "cell_type": "code",
      "metadata": {
        "id": "a99e3893-9d3e-42fc-baff-7138ad202cf6"
      },
      "source": [
        "### Defining a sigmoid function\n",
        "def sigmoid_function(z):\n",
        "    sig = 1/(1+np.exp(-z))\n",
        "    return (sig)\n",
        "\n",
        "### Defining cost function for logisitic\n",
        "def cost_function_calculator(X,Y,prob):\n",
        "    target_0 = np.multiply((1-Y),np.log(1-prob))\n",
        "    target_1 = np.multiply(Y,np.log(prob))\n",
        "    total_cost = -np.sum(target_0 + target_1)/X.shape[1]\n",
        "    return (total_cost)\n",
        "\n",
        "### Weights and bias update function based on the error\n",
        "def parameter_update(X,Y,weight,bias,learning_rate,prob):\n",
        "    dz = prob - Y\n",
        "    dw = (np.dot(X, dz.T))/X.shape[1] \n",
        "    db = (np.sum(dz))/X.shape[1]\n",
        "    weight = weight - learning_rate * dw #updating the weight vector\n",
        "    bias = bias - learning_rate * db #updating the bias vector\n",
        "    return (weight,bias)\n",
        "\n",
        "### Function to predict the target based on new feature values.\n",
        "def predict_logistic(x,weight,bias,threshold=0.5):\n",
        "    z = np.dot(weight.T,x) + bias\n",
        "    prob = sigmoid_function(z)\n",
        "    fixed_val = np.where(prob>threshold,1,0)\n",
        "    return(prob,fixed_val)\n",
        "\n",
        "### function to train logistic regression\n",
        "## In the below function epoch and learning_rate are the hyperparameters\n",
        "def train_logistic_regression(X,Y,val_x,val_y,epoch=1000,learning_rate=0.05,seed=140,threshold=0.5):\n",
        "    ### Inserting all the features column into an array\n",
        "    X = np.array(x_train)\n",
        "    Y = np.array(y_train)\n",
        "    X = X.T\n",
        "    Y =  Y.reshape(1, Y.shape[0]) \n",
        "    ### Above steps being done for validation set\n",
        "    if len(val_x)!=0:\n",
        "      X_val = np.array(val_x)\n",
        "      Y_val = np.array(val_y)\n",
        "      X_val = X_val.T\n",
        "      Y_val =  Y_val.reshape(1, Y_val.shape[0]) \n",
        "      loss_val = []\n",
        "      acc_val = []\n",
        "    ### Setting a random seed value to have the same result again and again\n",
        "    np.random.seed(seed)\n",
        "    ### Defining weight variable and bias variable and initializing with random number\n",
        "    weight = np.random.rand(X.shape[0]).reshape((X.shape[0],1)) ## We took X.shape[0] because that signifies how many independent variable exist in the dataset which is equal to the number of weights as each independent feature has a weight assigned to it \n",
        "    bias = np.random.rand()\n",
        "    loss = []\n",
        "    acc_train = []\n",
        "    for i in range(0,epoch):\n",
        "        ### Multiplying weights with feature value and adding bias.\n",
        "        z = np.dot(weight.T,X) + bias\n",
        "        ### Using the sigmoid function determining the value of output variable\n",
        "        prob = sigmoid_function(z)\n",
        "        ### Calculaing error from the actual value as well as returning the model prediction at threshold 0.5\n",
        "        cost_function = cost_function_calculator(X,Y,prob)\n",
        "        loss.append(np.squeeze(cost_function))\n",
        "        ### Calculating train accuracy at the moment at 0.5 threshold, can we set accordingly\n",
        "        train_targets = np.where(prob>threshold,1,0)\n",
        "        acc_train.append((((train_targets==Y).sum())/Y.shape[1]))\n",
        "        try:\n",
        "          prob_val, validation_targets = predict_logistic(X_val,weight,bias,threshold)\n",
        "          cost_function_val = cost_function_calculator(X_val,Y_val,prob_val)\n",
        "          loss_val.append(np.squeeze(cost_function_val))\n",
        "          acc_val.append((((validation_targets==Y_val).sum())/Y_val.shape[1]))\n",
        "        except:\n",
        "          pass\n",
        "        ### Based on the error from original value in the previous step, updating weights accordingly\n",
        "        weight,bias = parameter_update(X,Y,weight,bias,learning_rate,prob)\n",
        "    if loss_val:\n",
        "      return (weight,bias,loss,loss_val,[acc_train,acc_val])\n",
        "    else:\n",
        "      return (weight,bias,loss,acc_train)\n"
      ],
      "id": "a99e3893-9d3e-42fc-baff-7138ad202cf6",
      "execution_count": 17,
      "outputs": []
    },
    {
      "cell_type": "code",
      "metadata": {
        "tags": [],
        "id": "3bc8ca22-b971-4e31-b507-079d25f69fde"
      },
      "source": [
        "### Training logistic regression and obtaining weights, bias and loss value from it\n",
        "w,b,loss,loss_val,acc_scores = train_logistic_regression(x_train,y_train,val_x=x_val,val_y=y_val)"
      ],
      "id": "3bc8ca22-b971-4e31-b507-079d25f69fde",
      "execution_count": 18,
      "outputs": []
    },
    {
      "cell_type": "code",
      "metadata": {
        "id": "5BYEqCK-XVmb"
      },
      "source": [
        "Y_val = np.array(y_val)\n",
        "Y_val = Y_val.reshape(1, Y_val.shape[0])"
      ],
      "id": "5BYEqCK-XVmb",
      "execution_count": 19,
      "outputs": []
    },
    {
      "cell_type": "code",
      "metadata": {
        "colab": {
          "base_uri": "https://localhost:8080/",
          "height": 297
        },
        "id": "6c72d4c3-f37b-47fa-9d71-9dc7aa661383",
        "outputId": "e76ccdf1-7521-44a5-bf75-1a9d0e41b60b"
      },
      "source": [
        "### Plotting the decrease in loss value on training for logistic regression\n",
        "plt.plot(loss,label='train')\n",
        "plt.plot(loss_val,label='validation')\n",
        "plt.xlabel('iterations')\n",
        "plt.ylabel('loss')\n",
        "plt.legend()"
      ],
      "id": "6c72d4c3-f37b-47fa-9d71-9dc7aa661383",
      "execution_count": 20,
      "outputs": [
        {
          "output_type": "execute_result",
          "data": {
            "text/plain": [
              "<matplotlib.legend.Legend at 0x7f0b426a53d0>"
            ]
          },
          "metadata": {},
          "execution_count": 20
        },
        {
          "output_type": "display_data",
          "data": {
            "image/png": "[encoded data removed]",
            "text/plain": [
              "<Figure size 432x288 with 1 Axes>"
            ]
          },
          "metadata": {
            "needs_background": "light"
          }
        }
      ]
    },
    {
      "cell_type": "code",
      "metadata": {
        "colab": {
          "base_uri": "https://localhost:8080/",
          "height": 297
        },
        "id": "3hY6BqMOshKJ",
        "outputId": "c072e7e5-2e20-482d-da30-98180baa53c7"
      },
      "source": [
        "### Plotting the accuracy value on training and validation for logistic regression\n",
        "plt.plot(acc_scores[0],label='train')\n",
        "plt.plot(acc_scores[1],label='validation')\n",
        "plt.xlabel('iterations')\n",
        "plt.ylabel('accuracy')\n",
        "plt.legend()"
      ],
      "id": "3hY6BqMOshKJ",
      "execution_count": 21,
      "outputs": [
        {
          "output_type": "execute_result",
          "data": {
            "text/plain": [
              "<matplotlib.legend.Legend at 0x7f0b42663f50>"
            ]
          },
          "metadata": {},
          "execution_count": 21
        },
        {
          "output_type": "display_data",
          "data": {
            "image/png": "[encoded data removed]",
            "text/plain": [
              "<Figure size 432x288 with 1 Axes>"
            ]
          },
          "metadata": {
            "needs_background": "light"
          }
        }
      ]
    },
    {
      "cell_type": "code",
      "metadata": {
        "colab": {
          "base_uri": "https://localhost:8080/"
        },
        "id": "H6QBCgBNjpST",
        "outputId": "386cb37c-5ce4-49d3-a917-a331fee1aa3d"
      },
      "source": [
        "### Choosing a threshold value bases on which we will say that set a cutoff that once the model predict any value over it we will say that it is a case of diabetes\n",
        "threshold = 0.55\n",
        "\n",
        "### Train classification report\n",
        "print(\"Train classification report: \\n\",classification_report(y_train.values,predict_logistic(x_train.values.T,w,b,threshold)[1][0]))\n",
        "### Reaching an accuracy of 78%\n",
        "\n",
        "\n",
        "### Validation classification report\n",
        "print(\"Validation classification report: \\n\",classification_report(y_val.values,predict_logistic(x_val.values.T,w,b,threshold)[1][0]))\n",
        "### Reaching an accuracy of 77%"
      ],
      "id": "H6QBCgBNjpST",
      "execution_count": 22,
      "outputs": [
        {
          "output_type": "stream",
          "name": "stdout",
          "text": [
            "Train classification report: \n",
            "               precision    recall  f1-score   support\n",
            "\n",
            "           0       0.79      0.91      0.84       299\n",
            "           1       0.76      0.54      0.63       161\n",
            "\n",
            "    accuracy                           0.78       460\n",
            "   macro avg       0.77      0.72      0.74       460\n",
            "weighted avg       0.78      0.78      0.77       460\n",
            "\n",
            "Validation classification report: \n",
            "               precision    recall  f1-score   support\n",
            "\n",
            "           0       0.79      0.88      0.83       100\n",
            "           1       0.71      0.56      0.63        54\n",
            "\n",
            "    accuracy                           0.77       154\n",
            "   macro avg       0.75      0.72      0.73       154\n",
            "weighted avg       0.76      0.77      0.76       154\n",
            "\n"
          ]
        }
      ]
    },
    {
      "cell_type": "code",
      "metadata": {
        "id": "UBVsoLo3i0Sv"
      },
      "source": [
        "### Training logistic regression again with learning_rate = 0.01\n",
        "w1,b1,loss1,loss1_val,acc_scores1 = train_logistic_regression(x_train,y_train,val_x=x_val,val_y=y_val,learning_rate=0.01,epoch=1000)"
      ],
      "id": "UBVsoLo3i0Sv",
      "execution_count": 23,
      "outputs": []
    },
    {
      "cell_type": "code",
      "metadata": {
        "colab": {
          "base_uri": "https://localhost:8080/",
          "height": 298
        },
        "id": "o6hHYP4yi4EG",
        "outputId": "f66410cf-5a69-43f7-bcac-7fd5e3be222d"
      },
      "source": [
        "### Plotting the decrease in loss value on training for logistic regression\n",
        "plt.plot(loss1,label='train')\n",
        "plt.plot(loss1_val,label='validation')\n",
        "plt.xlabel('iterations')\n",
        "plt.ylabel('loss')\n",
        "plt.legend()\n",
        "### From the graph we can see that the loss value when learning_rate was 0.05 was lesser than when the learning_rate is 0.01, also the loss curve hasn't saturated meaning we can increase the epoch for the model to learn more\n",
        "### Hence moving forward with 0.05 learning_rate and making predictions accordingly"
      ],
      "id": "o6hHYP4yi4EG",
      "execution_count": 24,
      "outputs": [
        {
          "output_type": "execute_result",
          "data": {
            "text/plain": [
              "<matplotlib.legend.Legend at 0x7f0b42100e50>"
            ]
          },
          "metadata": {},
          "execution_count": 24
        },
        {
          "output_type": "display_data",
          "data": {
            "image/png": "[encoded data removed]",
            "text/plain": [
              "<Figure size 432x288 with 1 Axes>"
            ]
          },
          "metadata": {
            "needs_background": "light"
          }
        }
      ]
    },
    {
      "cell_type": "code",
      "metadata": {
        "colab": {
          "base_uri": "https://localhost:8080/",
          "height": 297
        },
        "id": "-uxLrG93vSh4",
        "outputId": "06989240-18c5-4c74-cc44-c279cbbee1da"
      },
      "source": [
        "### Plotting the accuracy value on training and validation for logistic regression\n",
        "plt.plot(acc_scores1[0],label='train')\n",
        "plt.plot(acc_scores1[1],label='validation')\n",
        "plt.xlabel('iterations')\n",
        "plt.ylabel('accuracy')\n",
        "plt.legend()"
      ],
      "id": "-uxLrG93vSh4",
      "execution_count": 25,
      "outputs": [
        {
          "output_type": "execute_result",
          "data": {
            "text/plain": [
              "<matplotlib.legend.Legend at 0x7f0b42036050>"
            ]
          },
          "metadata": {},
          "execution_count": 25
        },
        {
          "output_type": "display_data",
          "data": {
            "image/png": "[encoded data removed]",
            "text/plain": [
              "<Figure size 432x288 with 1 Axes>"
            ]
          },
          "metadata": {
            "needs_background": "light"
          }
        }
      ]
    },
    {
      "cell_type": "code",
      "metadata": {
        "colab": {
          "base_uri": "https://localhost:8080/"
        },
        "id": "4600bbe5-d481-418c-8468-d51b2470f226",
        "outputId": "1e66b729-0c9b-4f73-f0e8-e46f046fda55"
      },
      "source": [
        "### Choosing a threshold value bases on which we will say that set a cutoff that once the model predict any value over it we will say that it is a case of diabetes\n",
        "threshold = 0.55\n",
        "\n",
        "### Train classification report\n",
        "print(\"Train classification report: \\n\",classification_report(y_train.values,predict_logistic(x_train.values.T,w1,b1,threshold)[1][0]))\n",
        "### Reaching an accuracy of 78%\n",
        "\n",
        "\n",
        "### Validation classification report\n",
        "print(\"Validation classification report: \\n\",classification_report(y_val.values,predict_logistic(x_val.values.T,w1,b1,threshold)[1][0]))\n",
        "### Reaching an accuracy of 76%"
      ],
      "id": "4600bbe5-d481-418c-8468-d51b2470f226",
      "execution_count": 26,
      "outputs": [
        {
          "output_type": "stream",
          "name": "stdout",
          "text": [
            "Train classification report: \n",
            "               precision    recall  f1-score   support\n",
            "\n",
            "           0       0.79      0.90      0.84       299\n",
            "           1       0.74      0.55      0.63       161\n",
            "\n",
            "    accuracy                           0.78       460\n",
            "   macro avg       0.76      0.72      0.74       460\n",
            "weighted avg       0.77      0.78      0.77       460\n",
            "\n",
            "Validation classification report: \n",
            "               precision    recall  f1-score   support\n",
            "\n",
            "           0       0.78      0.88      0.83       100\n",
            "           1       0.71      0.54      0.61        54\n",
            "\n",
            "    accuracy                           0.76       154\n",
            "   macro avg       0.74      0.71      0.72       154\n",
            "weighted avg       0.75      0.76      0.75       154\n",
            "\n"
          ]
        }
      ]
    },
    {
      "cell_type": "code",
      "metadata": {
        "colab": {
          "base_uri": "https://localhost:8080/"
        },
        "id": "0c96843a-3c43-4cf5-b453-cd3eeb44a9e2",
        "outputId": "49924b61-0970-4772-801d-564c96f10ebb"
      },
      "source": [
        "### Moving forward with the previous model and predicting on test dataset\n",
        "\n",
        "### Test classification report\n",
        "print(\"Test classification report: \\n\",classification_report(y_test.values,predict_logistic(x_test.values.T,w,b,threshold)[1][0]))\n",
        "### Reaching an accuracy of 79%"
      ],
      "id": "0c96843a-3c43-4cf5-b453-cd3eeb44a9e2",
      "execution_count": 27,
      "outputs": [
        {
          "output_type": "stream",
          "name": "stdout",
          "text": [
            "Test classification report: \n",
            "               precision    recall  f1-score   support\n",
            "\n",
            "           0       0.77      0.95      0.85       101\n",
            "           1       0.83      0.47      0.60        53\n",
            "\n",
            "    accuracy                           0.79       154\n",
            "   macro avg       0.80      0.71      0.73       154\n",
            "weighted avg       0.79      0.79      0.77       154\n",
            "\n"
          ]
        }
      ]
    },
    {
      "cell_type": "markdown",
      "metadata": {
        "id": "pocbsRI1VKww"
      },
      "source": [
        "# Neural Networks"
      ],
      "id": "pocbsRI1VKww"
    },
    {
      "cell_type": "markdown",
      "metadata": {
        "id": "bv4U1waznDz1"
      },
      "source": [
        "## First Model iteration"
      ],
      "id": "bv4U1waznDz1"
    },
    {
      "cell_type": "code",
      "metadata": {
        "id": "PCBy-cMEkBwY"
      },
      "source": [
        "### Defining the neural network structure\n",
        "### Here we are building a one hidden layer neural network with 32 neurons\n",
        "model = Sequential()\n",
        "model.add(Dense(32, input_dim=8, kernel_initializer= 'normal',  activation='relu'))\n",
        "model.add(Dense(1, activation='sigmoid'))"
      ],
      "id": "PCBy-cMEkBwY",
      "execution_count": 28,
      "outputs": []
    },
    {
      "cell_type": "code",
      "metadata": {
        "id": "ySj5ZHWJdTzA"
      },
      "source": [
        "### Defining the model parameters such as type of optimizer, metrics we want to maximize on and the type of loss\n",
        "model.compile(loss='binary_crossentropy', optimizer='adam', metrics=['accuracy'])"
      ],
      "id": "ySj5ZHWJdTzA",
      "execution_count": 29,
      "outputs": []
    },
    {
      "cell_type": "code",
      "metadata": {
        "id": "nFpVPKO1dXnS"
      },
      "source": [
        "### Running the model for a total of 1000 epochs\n",
        "history = model.fit(x_train, y_train, epochs=1000, batch_size=64,verbose=0, validation_data=(x_val,y_val))"
      ],
      "id": "nFpVPKO1dXnS",
      "execution_count": 30,
      "outputs": []
    },
    {
      "cell_type": "code",
      "metadata": {
        "colab": {
          "base_uri": "https://localhost:8080/",
          "height": 297
        },
        "id": "CTg3lZvOmNtN",
        "outputId": "b34557f7-9671-4bbd-887e-d91c89ddd281"
      },
      "source": [
        "### Plotting train and validation loss curve\n",
        "plt.plot(history.history['loss'],label='train loss')\n",
        "plt.plot(history.history['val_loss'],label='validation loss')\n",
        "plt.xlabel('epoch')\n",
        "plt.ylabel('loss value')\n",
        "plt.legend()"
      ],
      "id": "CTg3lZvOmNtN",
      "execution_count": 31,
      "outputs": [
        {
          "output_type": "execute_result",
          "data": {
            "text/plain": [
              "<matplotlib.legend.Legend at 0x7f0b3e4b99d0>"
            ]
          },
          "metadata": {},
          "execution_count": 31
        },
        {
          "output_type": "display_data",
          "data": {
            "image/png": "[encoded data removed]",
            "text/plain": [
              "<Figure size 432x288 with 1 Axes>"
            ]
          },
          "metadata": {
            "needs_background": "light"
          }
        }
      ]
    },
    {
      "cell_type": "code",
      "metadata": {
        "colab": {
          "base_uri": "https://localhost:8080/",
          "height": 297
        },
        "id": "Wt59yH_rm1DC",
        "outputId": "bc7a9453-c75d-4c77-870a-e850356482ba"
      },
      "source": [
        "### Plotting train and validation loss curve\n",
        "plt.plot(history.history['accuracy'],label='train accuracy')\n",
        "plt.plot(history.history['val_accuracy'],label='validation accuracy')\n",
        "plt.xlabel('epoch')\n",
        "plt.ylabel('accuracy value')\n",
        "plt.legend()"
      ],
      "id": "Wt59yH_rm1DC",
      "execution_count": 32,
      "outputs": [
        {
          "output_type": "execute_result",
          "data": {
            "text/plain": [
              "<matplotlib.legend.Legend at 0x7f0b3e480310>"
            ]
          },
          "metadata": {},
          "execution_count": 32
        },
        {
          "output_type": "display_data",
          "data": {
            "image/png": "[encoded data removed]",
            "text/plain": [
              "<Figure size 432x288 with 1 Axes>"
            ]
          },
          "metadata": {
            "needs_background": "light"
          }
        }
      ]
    },
    {
      "cell_type": "code",
      "metadata": {
        "colab": {
          "base_uri": "https://localhost:8080/"
        },
        "id": "slyewyycda9Q",
        "outputId": "f3c36f93-b958-4146-e353-752ba2111ae2"
      },
      "source": [
        "### Train classification report\n",
        "print(\"Train classification report: \\n\", classification_report(y_train, np.where(model.predict(x_train)>0.55,1,0)))\n",
        "### Accuracy on train set is 86%"
      ],
      "id": "slyewyycda9Q",
      "execution_count": 33,
      "outputs": [
        {
          "output_type": "stream",
          "name": "stdout",
          "text": [
            "Train classification report: \n",
            "               precision    recall  f1-score   support\n",
            "\n",
            "           0       0.85      0.95      0.90       299\n",
            "           1       0.88      0.70      0.78       161\n",
            "\n",
            "    accuracy                           0.86       460\n",
            "   macro avg       0.87      0.82      0.84       460\n",
            "weighted avg       0.86      0.86      0.86       460\n",
            "\n"
          ]
        }
      ]
    },
    {
      "cell_type": "code",
      "metadata": {
        "colab": {
          "base_uri": "https://localhost:8080/"
        },
        "id": "TUKk5j3ZeW92",
        "outputId": "d2543ae4-6886-473d-89ed-6a3059fd20de"
      },
      "source": [
        "### Validation classification report\n",
        "print(\"Validation classification report: \\n\", classification_report(y_val, np.where(model.predict(x_val)>0.55,1,0)))\n",
        "### Accuracy on validation set is 68%\n",
        "### From the above we can see that there is a large difference in training and validation accuracy"
      ],
      "id": "TUKk5j3ZeW92",
      "execution_count": 34,
      "outputs": [
        {
          "output_type": "stream",
          "name": "stdout",
          "text": [
            "Validation classification report: \n",
            "               precision    recall  f1-score   support\n",
            "\n",
            "           0       0.74      0.79      0.76       100\n",
            "           1       0.55      0.48      0.51        54\n",
            "\n",
            "    accuracy                           0.68       154\n",
            "   macro avg       0.65      0.64      0.64       154\n",
            "weighted avg       0.67      0.68      0.68       154\n",
            "\n"
          ]
        }
      ]
    },
    {
      "cell_type": "markdown",
      "metadata": {
        "id": "FCpu2-Oqm-Rx"
      },
      "source": [
        "## Second  model iteration"
      ],
      "id": "FCpu2-Oqm-Rx"
    },
    {
      "cell_type": "code",
      "metadata": {
        "id": "Ufz6v7otme4h"
      },
      "source": [
        "### Defining early stopping which will automatically stop the iteration if there is no decrease in validation loss value for 5 iteration\n",
        "es = EarlyStopping(monitor='val_loss', mode='min', verbose=1, patience=10)"
      ],
      "id": "Ufz6v7otme4h",
      "execution_count": 35,
      "outputs": []
    },
    {
      "cell_type": "code",
      "metadata": {
        "id": "M3zNN0mRiE0F"
      },
      "source": [
        "### Defining a new model in which keeping callback as earlystopping\n",
        "model_1 = Sequential()\n",
        "model_1.add(Dense(16, input_dim=8, kernel_initializer= 'normal', activation='relu'))\n",
        "model_1.add(Dense(8, kernel_initializer= 'normal', activation='relu'))\n",
        "model_1.add(Dense(1, activation='sigmoid'))"
      ],
      "id": "M3zNN0mRiE0F",
      "execution_count": 36,
      "outputs": []
    },
    {
      "cell_type": "code",
      "metadata": {
        "id": "te0iK9p7iEq7"
      },
      "source": [
        "### Defining the model parameters such as type of optimizer, metrics we want to maximize on and the type of loss\n",
        "model_1.compile(loss='binary_crossentropy', optimizer='adam', metrics=['accuracy'])"
      ],
      "id": "te0iK9p7iEq7",
      "execution_count": 37,
      "outputs": []
    },
    {
      "cell_type": "code",
      "metadata": {
        "colab": {
          "base_uri": "https://localhost:8080/"
        },
        "id": "j2hrC5qbiEYT",
        "outputId": "29d59c20-f89b-45bb-8690-9d05f35fb6a4"
      },
      "source": [
        "### Running the model for a total of 10000 epochs\n",
        "history_1 = model_1.fit(x_train, y_train, epochs=10000, batch_size=64, validation_data=(x_val,y_val), verbose=0, callbacks=es)"
      ],
      "id": "j2hrC5qbiEYT",
      "execution_count": 38,
      "outputs": [
        {
          "output_type": "stream",
          "name": "stdout",
          "text": [
            "Epoch 00059: early stopping\n"
          ]
        }
      ]
    },
    {
      "cell_type": "code",
      "metadata": {
        "colab": {
          "base_uri": "https://localhost:8080/",
          "height": 297
        },
        "id": "y_UZBEy-nPqP",
        "outputId": "f3e3d779-4c61-4efa-d05c-04eb8be96a73"
      },
      "source": [
        "### Plotting train and validation loss curve\n",
        "plt.plot(history_1.history['loss'],label='train loss')\n",
        "plt.plot(history_1.history['val_loss'],label='validation loss')\n",
        "plt.xlabel('epoch')\n",
        "plt.ylabel('loss value')\n",
        "plt.legend()"
      ],
      "id": "y_UZBEy-nPqP",
      "execution_count": 39,
      "outputs": [
        {
          "output_type": "execute_result",
          "data": {
            "text/plain": [
              "<matplotlib.legend.Legend at 0x7f0b3ccba450>"
            ]
          },
          "metadata": {},
          "execution_count": 39
        },
        {
          "output_type": "display_data",
          "data": {
            "image/png": "[encoded data removed]",
            "text/plain": [
              "<Figure size 432x288 with 1 Axes>"
            ]
          },
          "metadata": {
            "needs_background": "light"
          }
        }
      ]
    },
    {
      "cell_type": "code",
      "metadata": {
        "colab": {
          "base_uri": "https://localhost:8080/",
          "height": 297
        },
        "id": "3-Pl-_t4nPqS",
        "outputId": "24b21a89-c9ff-4e00-eecf-9f32d0ab0f32"
      },
      "source": [
        "### Plotting train and validation accuracy curve\n",
        "plt.plot(history_1.history['accuracy'],label='train accuracy')\n",
        "plt.plot(history_1.history['val_accuracy'],label='validation accuracy')\n",
        "plt.xlabel('epoch')\n",
        "plt.ylabel('loss value')\n",
        "plt.legend()"
      ],
      "id": "3-Pl-_t4nPqS",
      "execution_count": 40,
      "outputs": [
        {
          "output_type": "execute_result",
          "data": {
            "text/plain": [
              "<matplotlib.legend.Legend at 0x7f0b3e161ed0>"
            ]
          },
          "metadata": {},
          "execution_count": 40
        },
        {
          "output_type": "display_data",
          "data": {
            "image/png": "[encoded data removed]",
            "text/plain": [
              "<Figure size 432x288 with 1 Axes>"
            ]
          },
          "metadata": {
            "needs_background": "light"
          }
        }
      ]
    },
    {
      "cell_type": "code",
      "metadata": {
        "colab": {
          "base_uri": "https://localhost:8080/"
        },
        "id": "tyzd4SbdiEGj",
        "outputId": "6b969ce4-01e6-454b-d8a4-b678ca2877bc"
      },
      "source": [
        "### Train classification report\n",
        "print(\"Train classification report: \\n\", classification_report(y_train, np.where(model_1.predict(x_train)>0.55,1,0)))\n",
        "### Train accuracy is 80%"
      ],
      "id": "tyzd4SbdiEGj",
      "execution_count": 41,
      "outputs": [
        {
          "output_type": "stream",
          "name": "stdout",
          "text": [
            "Train classification report: \n",
            "               precision    recall  f1-score   support\n",
            "\n",
            "           0       0.81      0.90      0.85       299\n",
            "           1       0.77      0.60      0.67       161\n",
            "\n",
            "    accuracy                           0.80       460\n",
            "   macro avg       0.79      0.75      0.76       460\n",
            "weighted avg       0.79      0.80      0.79       460\n",
            "\n"
          ]
        }
      ]
    },
    {
      "cell_type": "code",
      "metadata": {
        "colab": {
          "base_uri": "https://localhost:8080/"
        },
        "id": "n-zDu2aKiDo8",
        "outputId": "e3a34c2f-3e44-481f-952d-cb84219ac99d"
      },
      "source": [
        "### Validation classification report\n",
        "print(\"Validation classification report: \\n\", classification_report(y_val, np.where(model_1.predict(x_val)>0.55,1,0)))\n",
        "### Validation accuracy is 75%"
      ],
      "id": "n-zDu2aKiDo8",
      "execution_count": 42,
      "outputs": [
        {
          "output_type": "stream",
          "name": "stdout",
          "text": [
            "Validation classification report: \n",
            "               precision    recall  f1-score   support\n",
            "\n",
            "           0       0.79      0.85      0.82       100\n",
            "           1       0.67      0.57      0.62        54\n",
            "\n",
            "    accuracy                           0.75       154\n",
            "   macro avg       0.73      0.71      0.72       154\n",
            "weighted avg       0.75      0.75      0.75       154\n",
            "\n"
          ]
        }
      ]
    },
    {
      "cell_type": "markdown",
      "metadata": {
        "id": "_mkU83aEp_9t"
      },
      "source": [
        "## Third model which includes dropout"
      ],
      "id": "_mkU83aEp_9t"
    },
    {
      "cell_type": "code",
      "metadata": {
        "id": "4bKcXjtAqIJd"
      },
      "source": [
        "### Defining a new model with dropout \n",
        "model_3 = Sequential()\n",
        "model_3.add(Dense(16, input_dim=8, kernel_initializer= 'normal', activation='relu'))\n",
        "model_3.add(Dense(8, kernel_initializer= 'normal', activation='relu'))\n",
        "model_3.add(tf.keras.layers.Dropout(0.3))\n",
        "model_3.add(Dense(1, activation='sigmoid'))"
      ],
      "id": "4bKcXjtAqIJd",
      "execution_count": 43,
      "outputs": []
    },
    {
      "cell_type": "code",
      "metadata": {
        "colab": {
          "base_uri": "https://localhost:8080/"
        },
        "id": "3xoPDV5-smgf",
        "outputId": "31f88cf8-5f1d-4d45-ac13-297560e72ec7"
      },
      "source": [
        "model_3.summary()"
      ],
      "id": "3xoPDV5-smgf",
      "execution_count": 44,
      "outputs": [
        {
          "output_type": "stream",
          "name": "stdout",
          "text": [
            "Model: \"sequential_2\"\n",
            "_________________________________________________________________\n",
            "Layer (type)                 Output Shape              Param #   \n",
            "=================================================================\n",
            "dense_5 (Dense)              (None, 16)                144       \n",
            "_________________________________________________________________\n",
            "dense_6 (Dense)              (None, 8)                 136       \n",
            "_________________________________________________________________\n",
            "dropout (Dropout)            (None, 8)                 0         \n",
            "_________________________________________________________________\n",
            "dense_7 (Dense)              (None, 1)                 9         \n",
            "=================================================================\n",
            "Total params: 289\n",
            "Trainable params: 289\n",
            "Non-trainable params: 0\n",
            "_________________________________________________________________\n"
          ]
        }
      ]
    },
    {
      "cell_type": "code",
      "metadata": {
        "id": "ZIvsf-5KqIJf"
      },
      "source": [
        "### Defining the model parameters such as type of optimizer, metrics we want to maximize on and the type of loss\n",
        "model_3.compile(loss='binary_crossentropy', optimizer='adam', metrics=['accuracy'])"
      ],
      "id": "ZIvsf-5KqIJf",
      "execution_count": 45,
      "outputs": []
    },
    {
      "cell_type": "code",
      "metadata": {
        "colab": {
          "base_uri": "https://localhost:8080/"
        },
        "id": "MpdSBl10qIJg",
        "outputId": "116ebd39-24b7-4148-ca12-78bf2d9950e0"
      },
      "source": [
        "### Running the model for a total of 10000 epochs\n",
        "history_3 = model_3.fit(x_train, y_train, epochs=10000, batch_size=64, validation_data=(x_val,y_val), verbose=0, callbacks=es)"
      ],
      "id": "MpdSBl10qIJg",
      "execution_count": 46,
      "outputs": [
        {
          "output_type": "stream",
          "name": "stdout",
          "text": [
            "Epoch 00059: early stopping\n"
          ]
        }
      ]
    },
    {
      "cell_type": "code",
      "metadata": {
        "colab": {
          "base_uri": "https://localhost:8080/",
          "height": 298
        },
        "id": "zvHtU6uKqIJi",
        "outputId": "aa67da0e-38ef-4596-c4cd-abc6b420dbd8"
      },
      "source": [
        "### Plotting train and validation loss curve\n",
        "plt.plot(history_3.history['loss'],label='train loss')\n",
        "plt.plot(history_3.history['val_loss'],label='validation loss')\n",
        "plt.xlabel('epoch')\n",
        "plt.ylabel('loss value')\n",
        "plt.legend()"
      ],
      "id": "zvHtU6uKqIJi",
      "execution_count": 47,
      "outputs": [
        {
          "output_type": "execute_result",
          "data": {
            "text/plain": [
              "<matplotlib.legend.Legend at 0x7f0b3df38810>"
            ]
          },
          "metadata": {},
          "execution_count": 47
        },
        {
          "output_type": "display_data",
          "data": {
            "image/png": "[encoded data removed]",
            "text/plain": [
              "<Figure size 432x288 with 1 Axes>"
            ]
          },
          "metadata": {
            "needs_background": "light"
          }
        }
      ]
    },
    {
      "cell_type": "code",
      "metadata": {
        "colab": {
          "base_uri": "https://localhost:8080/",
          "height": 297
        },
        "id": "kK74LgVgqIJi",
        "outputId": "739c47a8-41a0-49b1-949f-2337bc692474"
      },
      "source": [
        "### Plotting train and validation loss curve\n",
        "plt.plot(history_3.history['accuracy'],label='train accuracy')\n",
        "plt.plot(history_3.history['val_accuracy'],label='validation accuracy')\n",
        "plt.xlabel('epoch')\n",
        "plt.ylabel('accuracy value')\n",
        "plt.legend()"
      ],
      "id": "kK74LgVgqIJi",
      "execution_count": 48,
      "outputs": [
        {
          "output_type": "execute_result",
          "data": {
            "text/plain": [
              "<matplotlib.legend.Legend at 0x7f0b3ded8550>"
            ]
          },
          "metadata": {},
          "execution_count": 48
        },
        {
          "output_type": "display_data",
          "data": {
            "image/png": "[encoded data removed]",
            "text/plain": [
              "<Figure size 432x288 with 1 Axes>"
            ]
          },
          "metadata": {
            "needs_background": "light"
          }
        }
      ]
    },
    {
      "cell_type": "code",
      "metadata": {
        "colab": {
          "base_uri": "https://localhost:8080/"
        },
        "id": "OLK2pWmYqIJk",
        "outputId": "8acba064-1609-4106-9774-37150aa09061"
      },
      "source": [
        "### Train classification report\n",
        "print(\"Train classification report: \\n\", classification_report(y_train, np.where(model_3.predict(x_train)>0.55,1,0)))\n",
        "### Train accuracy is 80%"
      ],
      "id": "OLK2pWmYqIJk",
      "execution_count": 49,
      "outputs": [
        {
          "output_type": "stream",
          "name": "stdout",
          "text": [
            "Train classification report: \n",
            "               precision    recall  f1-score   support\n",
            "\n",
            "           0       0.83      0.88      0.85       299\n",
            "           1       0.75      0.66      0.70       161\n",
            "\n",
            "    accuracy                           0.80       460\n",
            "   macro avg       0.79      0.77      0.78       460\n",
            "weighted avg       0.80      0.80      0.80       460\n",
            "\n"
          ]
        }
      ]
    },
    {
      "cell_type": "code",
      "metadata": {
        "colab": {
          "base_uri": "https://localhost:8080/"
        },
        "id": "-JxDIgxYqIJl",
        "outputId": "5472e04f-943b-420d-b7db-b678e2c33abe"
      },
      "source": [
        "### Validation classification report\n",
        "print(\"Validation classification report: \\n\", classification_report(y_val, np.where(model_3.predict(x_val)>0.55,1,0)))\n",
        "### Validation accuracy is 75%"
      ],
      "id": "-JxDIgxYqIJl",
      "execution_count": 50,
      "outputs": [
        {
          "output_type": "stream",
          "name": "stdout",
          "text": [
            "Validation classification report: \n",
            "               precision    recall  f1-score   support\n",
            "\n",
            "           0       0.79      0.84      0.82       100\n",
            "           1       0.67      0.59      0.63        54\n",
            "\n",
            "    accuracy                           0.75       154\n",
            "   macro avg       0.73      0.72      0.72       154\n",
            "weighted avg       0.75      0.75      0.75       154\n",
            "\n"
          ]
        }
      ]
    },
    {
      "cell_type": "markdown",
      "metadata": {
        "id": "go1c-KfE2sIF"
      },
      "source": [
        "## Fourth model which will include l1 regularization"
      ],
      "id": "go1c-KfE2sIF"
    },
    {
      "cell_type": "code",
      "metadata": {
        "id": "O7Yva6osmySN"
      },
      "source": [
        "### Defining a new model with l1 regularization parameter\n",
        "model_4 = Sequential()\n",
        "model_4.add(Dense(16, input_dim=8, kernel_initializer= 'normal', activation='relu'))\n",
        "model_4.add(Dense(8, kernel_initializer= 'normal', activation='relu',kernel_regularizer=tf.keras.regularizers.l1()))\n",
        "model_4.add(Dense(1, activation='sigmoid'))"
      ],
      "id": "O7Yva6osmySN",
      "execution_count": 51,
      "outputs": []
    },
    {
      "cell_type": "code",
      "metadata": {
        "colab": {
          "base_uri": "https://localhost:8080/"
        },
        "id": "g7AaH5343NJ0",
        "outputId": "f4f2480e-9643-43e8-9fa0-d32a351ca312"
      },
      "source": [
        "model_4.summary()"
      ],
      "id": "g7AaH5343NJ0",
      "execution_count": 52,
      "outputs": [
        {
          "output_type": "stream",
          "name": "stdout",
          "text": [
            "Model: \"sequential_3\"\n",
            "_________________________________________________________________\n",
            "Layer (type)                 Output Shape              Param #   \n",
            "=================================================================\n",
            "dense_8 (Dense)              (None, 16)                144       \n",
            "_________________________________________________________________\n",
            "dense_9 (Dense)              (None, 8)                 136       \n",
            "_________________________________________________________________\n",
            "dense_10 (Dense)             (None, 1)                 9         \n",
            "=================================================================\n",
            "Total params: 289\n",
            "Trainable params: 289\n",
            "Non-trainable params: 0\n",
            "_________________________________________________________________\n"
          ]
        }
      ]
    },
    {
      "cell_type": "code",
      "metadata": {
        "id": "ZageFDpb3NJ3"
      },
      "source": [
        "### Defining the model parameters such as type of optimizer, metrics we want to maximize on and the type of loss\n",
        "model_4.compile(loss='binary_crossentropy', optimizer='adam', metrics=['accuracy'])"
      ],
      "id": "ZageFDpb3NJ3",
      "execution_count": 53,
      "outputs": []
    },
    {
      "cell_type": "code",
      "metadata": {
        "colab": {
          "base_uri": "https://localhost:8080/"
        },
        "id": "3i_KPb9W3NJ5",
        "outputId": "0811bf72-ddaf-4b14-bbc3-46cda3e1433b"
      },
      "source": [
        "### Running the model for a total of 10000 epochs\n",
        "history_4 = model_4.fit(x_train, y_train, epochs=10000, batch_size=64, validation_data=(x_val,y_val), verbose=0, callbacks=es)"
      ],
      "id": "3i_KPb9W3NJ5",
      "execution_count": 54,
      "outputs": [
        {
          "output_type": "stream",
          "name": "stdout",
          "text": [
            "Epoch 00135: early stopping\n"
          ]
        }
      ]
    },
    {
      "cell_type": "code",
      "metadata": {
        "colab": {
          "base_uri": "https://localhost:8080/",
          "height": 297
        },
        "id": "0OLoJ6OK3NJ7",
        "outputId": "fde8e838-2eb5-4453-fcdb-d77fa5097fb0"
      },
      "source": [
        "### Plotting train and validation loss curve\n",
        "plt.plot(history_4.history['loss'],label='train loss')\n",
        "plt.plot(history_4.history['val_loss'],label='validation loss')\n",
        "plt.xlabel('epoch')\n",
        "plt.ylabel('loss value')\n",
        "plt.legend()"
      ],
      "id": "0OLoJ6OK3NJ7",
      "execution_count": 55,
      "outputs": [
        {
          "output_type": "execute_result",
          "data": {
            "text/plain": [
              "<matplotlib.legend.Legend at 0x7f0b3de56410>"
            ]
          },
          "metadata": {},
          "execution_count": 55
        },
        {
          "output_type": "display_data",
          "data": {
            "image/png": "[encoded data removed]",
            "text/plain": [
              "<Figure size 432x288 with 1 Axes>"
            ]
          },
          "metadata": {
            "needs_background": "light"
          }
        }
      ]
    },
    {
      "cell_type": "code",
      "metadata": {
        "colab": {
          "base_uri": "https://localhost:8080/",
          "height": 300
        },
        "id": "9pYTDUV53NJ8",
        "outputId": "8c37b51b-d05a-4981-963d-fc7ec05e3358"
      },
      "source": [
        "### Plotting train and validation accuracy curve\n",
        "plt.plot(history_4.history['accuracy'],label='train accuracy')\n",
        "plt.plot(history_4.history['val_accuracy'],label='validation accuracy')\n",
        "plt.xlabel('epoch')\n",
        "plt.ylabel('accuracy value')\n",
        "plt.legend()"
      ],
      "id": "9pYTDUV53NJ8",
      "execution_count": 56,
      "outputs": [
        {
          "output_type": "execute_result",
          "data": {
            "text/plain": [
              "<matplotlib.legend.Legend at 0x7f0b35d15d90>"
            ]
          },
          "metadata": {},
          "execution_count": 56
        },
        {
          "output_type": "display_data",
          "data": {
            "image/png": "[encoded data removed]",
            "text/plain": [
              "<Figure size 432x288 with 1 Axes>"
            ]
          },
          "metadata": {
            "needs_background": "light"
          }
        }
      ]
    },
    {
      "cell_type": "code",
      "metadata": {
        "colab": {
          "base_uri": "https://localhost:8080/"
        },
        "id": "bJx6YSwo3NJ-",
        "outputId": "546d188e-487a-457a-bd89-4c4b5bc11a1a"
      },
      "source": [
        "### Train classification report\n",
        "print(\"Train classification report: \\n\", classification_report(y_train, np.where(model_4.predict(x_train)>0.55,1,0)))\n",
        "### Train accuracy is 79%"
      ],
      "id": "bJx6YSwo3NJ-",
      "execution_count": 57,
      "outputs": [
        {
          "output_type": "stream",
          "name": "stdout",
          "text": [
            "Train classification report: \n",
            "               precision    recall  f1-score   support\n",
            "\n",
            "           0       0.81      0.89      0.85       299\n",
            "           1       0.75      0.61      0.67       161\n",
            "\n",
            "    accuracy                           0.79       460\n",
            "   macro avg       0.78      0.75      0.76       460\n",
            "weighted avg       0.79      0.79      0.79       460\n",
            "\n"
          ]
        }
      ]
    },
    {
      "cell_type": "code",
      "metadata": {
        "colab": {
          "base_uri": "https://localhost:8080/"
        },
        "id": "o444eWgV3NKA",
        "outputId": "45211536-0460-4828-ee98-9ef8816ae06e"
      },
      "source": [
        "### Validation classification report\n",
        "print(\"Validation classification report: \\n\", classification_report(y_val, np.where(model_4.predict(x_val)>0.55,1,0)))\n",
        "### Validation accuracy is 75%"
      ],
      "id": "o444eWgV3NKA",
      "execution_count": 58,
      "outputs": [
        {
          "output_type": "stream",
          "name": "stdout",
          "text": [
            "Validation classification report: \n",
            "               precision    recall  f1-score   support\n",
            "\n",
            "           0       0.79      0.85      0.82       100\n",
            "           1       0.67      0.57      0.62        54\n",
            "\n",
            "    accuracy                           0.75       154\n",
            "   macro avg       0.73      0.71      0.72       154\n",
            "weighted avg       0.75      0.75      0.75       154\n",
            "\n"
          ]
        }
      ]
    },
    {
      "cell_type": "markdown",
      "metadata": {
        "id": "i9bil2Uj3rgU"
      },
      "source": [
        "### Fifth model with l2 regularization"
      ],
      "id": "i9bil2Uj3rgU"
    },
    {
      "cell_type": "code",
      "metadata": {
        "id": "LoMfPVs23zU4"
      },
      "source": [
        "### Defining a new model with l2 regularization parameter\n",
        "model_5 = Sequential()\n",
        "model_5.add(Dense(16, input_dim=8, kernel_initializer= 'normal', activation='relu'))\n",
        "model_5.add(Dense(8, kernel_initializer= 'normal', activation='relu',kernel_regularizer=tf.keras.regularizers.l2(0.2)))\n",
        "model_5.add(Dense(1, activation='sigmoid'))"
      ],
      "id": "LoMfPVs23zU4",
      "execution_count": 59,
      "outputs": []
    },
    {
      "cell_type": "code",
      "metadata": {
        "colab": {
          "base_uri": "https://localhost:8080/"
        },
        "id": "zPy5ptan3zU6",
        "outputId": "135a34b3-581c-4d66-8d78-2c6c48b1d572"
      },
      "source": [
        "model_5.summary()"
      ],
      "id": "zPy5ptan3zU6",
      "execution_count": 60,
      "outputs": [
        {
          "output_type": "stream",
          "name": "stdout",
          "text": [
            "Model: \"sequential_4\"\n",
            "_________________________________________________________________\n",
            "Layer (type)                 Output Shape              Param #   \n",
            "=================================================================\n",
            "dense_11 (Dense)             (None, 16)                144       \n",
            "_________________________________________________________________\n",
            "dense_12 (Dense)             (None, 8)                 136       \n",
            "_________________________________________________________________\n",
            "dense_13 (Dense)             (None, 1)                 9         \n",
            "=================================================================\n",
            "Total params: 289\n",
            "Trainable params: 289\n",
            "Non-trainable params: 0\n",
            "_________________________________________________________________\n"
          ]
        }
      ]
    },
    {
      "cell_type": "code",
      "metadata": {
        "id": "sLfAqAxR3zU8"
      },
      "source": [
        "### Defining the model parameters such as type of optimizer, metrics we want to maximize on and the type of loss\n",
        "model_5.compile(loss='binary_crossentropy', optimizer='adam', metrics=['accuracy'])"
      ],
      "id": "sLfAqAxR3zU8",
      "execution_count": 61,
      "outputs": []
    },
    {
      "cell_type": "code",
      "metadata": {
        "colab": {
          "base_uri": "https://localhost:8080/"
        },
        "id": "i8-ZeHWh3zU9",
        "outputId": "b2c9e303-dd0c-4223-bbdd-b83a6fa54391"
      },
      "source": [
        "### Running the model for a total of 10000 epochs\n",
        "history_5 = model_5.fit(x_train, y_train, epochs=10000, batch_size=64, validation_data=(x_val,y_val), verbose=0, callbacks=es)"
      ],
      "id": "i8-ZeHWh3zU9",
      "execution_count": 62,
      "outputs": [
        {
          "output_type": "stream",
          "name": "stdout",
          "text": [
            "Epoch 00131: early stopping\n"
          ]
        }
      ]
    },
    {
      "cell_type": "code",
      "metadata": {
        "colab": {
          "base_uri": "https://localhost:8080/",
          "height": 300
        },
        "id": "7ph5l7Az3zU_",
        "outputId": "bd53778f-8c41-4136-9d8d-4f861efa06d6"
      },
      "source": [
        "### Plotting train and validation loss curve\n",
        "plt.plot(history_5.history['loss'],label='train loss')\n",
        "plt.plot(history_5.history['val_loss'],label='validation loss')\n",
        "plt.xlabel('epoch')\n",
        "plt.ylabel('loss value')\n",
        "plt.legend()"
      ],
      "id": "7ph5l7Az3zU_",
      "execution_count": 63,
      "outputs": [
        {
          "output_type": "execute_result",
          "data": {
            "text/plain": [
              "<matplotlib.legend.Legend at 0x7f0b3832e7d0>"
            ]
          },
          "metadata": {},
          "execution_count": 63
        },
        {
          "output_type": "display_data",
          "data": {
            "image/png": "[encoded data removed]",
            "text/plain": [
              "<Figure size 432x288 with 1 Axes>"
            ]
          },
          "metadata": {
            "needs_background": "light"
          }
        }
      ]
    },
    {
      "cell_type": "code",
      "metadata": {
        "colab": {
          "base_uri": "https://localhost:8080/",
          "height": 297
        },
        "id": "UenYfNBU3zVA",
        "outputId": "9d50f51c-016f-4e46-db12-fcf54da57bfd"
      },
      "source": [
        "### Plotting train and validation accuracy curve\n",
        "plt.plot(history_5.history['accuracy'],label='train accuracy')\n",
        "plt.plot(history_5.history['val_accuracy'],label='validation accuracy')\n",
        "plt.xlabel('epoch')\n",
        "plt.ylabel('accuracy value')\n",
        "plt.legend()"
      ],
      "id": "UenYfNBU3zVA",
      "execution_count": 64,
      "outputs": [
        {
          "output_type": "execute_result",
          "data": {
            "text/plain": [
              "<matplotlib.legend.Legend at 0x7f0b39dc3b10>"
            ]
          },
          "metadata": {},
          "execution_count": 64
        },
        {
          "output_type": "display_data",
          "data": {
            "image/png": "[encoded data removed]",
            "text/plain": [
              "<Figure size 432x288 with 1 Axes>"
            ]
          },
          "metadata": {
            "needs_background": "light"
          }
        }
      ]
    },
    {
      "cell_type": "code",
      "metadata": {
        "colab": {
          "base_uri": "https://localhost:8080/"
        },
        "id": "EPLwFsXh3zVB",
        "outputId": "882d5d11-b8cb-41f4-abdd-ffb7063f2897"
      },
      "source": [
        "### Train classification report\n",
        "print(\"Train classification report: \\n\", classification_report(y_train, np.where(model_5.predict(x_train)>0.55,1,0)))\n",
        "### Train accuracy is 79%"
      ],
      "id": "EPLwFsXh3zVB",
      "execution_count": 65,
      "outputs": [
        {
          "output_type": "stream",
          "name": "stdout",
          "text": [
            "Train classification report: \n",
            "               precision    recall  f1-score   support\n",
            "\n",
            "           0       0.81      0.89      0.85       299\n",
            "           1       0.75      0.61      0.67       161\n",
            "\n",
            "    accuracy                           0.79       460\n",
            "   macro avg       0.78      0.75      0.76       460\n",
            "weighted avg       0.79      0.79      0.79       460\n",
            "\n"
          ]
        }
      ]
    },
    {
      "cell_type": "code",
      "metadata": {
        "colab": {
          "base_uri": "https://localhost:8080/"
        },
        "id": "T4-GtG1R3zVC",
        "outputId": "fb2cb79c-073e-47fc-b30c-fd3c36478632"
      },
      "source": [
        "### Validation classification report\n",
        "print(\"Validation classification report: \\n\", classification_report(y_val, np.where(model_5.predict(x_val)>0.55,1,0)))\n",
        "### Validation accuracy is 76%"
      ],
      "id": "T4-GtG1R3zVC",
      "execution_count": 66,
      "outputs": [
        {
          "output_type": "stream",
          "name": "stdout",
          "text": [
            "Validation classification report: \n",
            "               precision    recall  f1-score   support\n",
            "\n",
            "           0       0.79      0.86      0.82       100\n",
            "           1       0.69      0.57      0.63        54\n",
            "\n",
            "    accuracy                           0.76       154\n",
            "   macro avg       0.74      0.72      0.72       154\n",
            "weighted avg       0.75      0.76      0.75       154\n",
            "\n"
          ]
        }
      ]
    },
    {
      "cell_type": "code",
      "metadata": {
        "colab": {
          "base_uri": "https://localhost:8080/"
        },
        "id": "v2ohUxDk3NKB",
        "outputId": "5fe66516-7a9b-433d-9188-21d5c1902a7c"
      },
      "source": [
        "### Test classification report\n",
        "### Using the model in which l2 norm was applied as it has the best metrics on both train and validation test\n",
        "print(\"Test classification report: \\n\", classification_report(y_test, np.where(model_5.predict(x_test)>0.55,1,0)))\n",
        "### Test set validation accuracy is 77%"
      ],
      "id": "v2ohUxDk3NKB",
      "execution_count": 67,
      "outputs": [
        {
          "output_type": "stream",
          "name": "stdout",
          "text": [
            "Test classification report: \n",
            "               precision    recall  f1-score   support\n",
            "\n",
            "           0       0.77      0.91      0.84       101\n",
            "           1       0.74      0.49      0.59        53\n",
            "\n",
            "    accuracy                           0.77       154\n",
            "   macro avg       0.76      0.70      0.71       154\n",
            "weighted avg       0.76      0.77      0.75       154\n",
            "\n"
          ]
        }
      ]
    }
  ]
}